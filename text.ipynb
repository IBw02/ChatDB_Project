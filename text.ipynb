{
 "cells": [
  {
   "cell_type": "code",
   "execution_count": 4,
   "metadata": {},
   "outputs": [
    {
     "name": "stdout",
     "output_type": "stream",
     "text": [
      "Response from server:\n",
      "[['B07JW9H4J1', 'Wayona Nylon Braided USB to Lightning Fast Charging Cable', 'Computers&Accessories', 399.0, 1099.0, 4.2, 24269], ['B07JW9H4J1', 'Wayona Nylon Braided USB to Lightning Fast Charging and Data Sync Cable Compatible for iPhone 13, 12,11, X, 8, 7, 6, 5, iPad Air, Pro, Mini (3 FT Pack of 1, Grey)', 'Computers&Accessories|Accessories&Peripherals|Cables&Accessories|Cables|USBCables', 399.0, 1099.0, 4.2, 24269], ['B098NS6PVG', 'Ambrane Unbreakable 60W / 3A Fast Charging 1.5m Braided Type C Cable for Smartphones, Tablets, Laptops & other Type C devices, PD Technology, 480Mbps Data Sync, Quick Charge 3.0 (RCT15A, Black)', 'Computers&Accessories|Accessories&Peripherals|Cables&Accessories|Cables|USBCables', 199.0, 349.0, 4.0, 43994], ['B096MSW6CT', 'Sounce Fast Phone Charging Cable & Data Sync USB Cable Compatible for iPhone 13, 12,11, X, 8, 7, 6, 5, iPad Air, Pro, Mini & iOS Devices', 'Computers&Accessories|Accessories&Peripherals|Cables&Accessories|Cables|USBCables', 199.0, 1899.0, 3.9, 7928], ['B08HDJ86NZ', 'boAt Deuce USB 300 2 in 1 Type-C & Micro USB Stress Resistant, Tangle-Free, Sturdy Cable with 3A Fast Charging & 480mbps Data Transmission, 10000+ Bends Lifespan and Extended 1.5m Length(Martian Red)', 'Computers&Accessories|Accessories&Peripherals|Cables&Accessories|Cables|USBCables', 329.0, 699.0, 4.2, 94363]]\n"
     ]
    }
   ],
   "source": [
    "import requests\n",
    "\n",
    "# Flask API URL\n",
    "url = \"http://127.0.0.1:5000/query\"\n",
    "\n",
    "# SQL query to send\n",
    "payload = {\n",
    "    \"query\": \"SELECT * FROM amazon_products LIMIT 5;\"\n",
    "}\n",
    "\n",
    "# Send POST request to the Flask API\n",
    "response = requests.post(url, json=payload)\n",
    "\n",
    "# Print the response\n",
    "if response.status_code == 200:\n",
    "    print(\"Response from server:\")\n",
    "    print(response.json())\n",
    "else:\n",
    "    print(f\"Error: {response.status_code}, {response.text}\")\n"
   ]
  }
 ],
 "metadata": {
  "kernelspec": {
   "display_name": "DSCI551",
   "language": "python",
   "name": "python3"
  },
  "language_info": {
   "codemirror_mode": {
    "name": "ipython",
    "version": 3
   },
   "file_extension": ".py",
   "mimetype": "text/x-python",
   "name": "python",
   "nbconvert_exporter": "python",
   "pygments_lexer": "ipython3",
   "version": "3.10.15"
  }
 },
 "nbformat": 4,
 "nbformat_minor": 2
}
